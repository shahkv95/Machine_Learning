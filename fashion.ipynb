import tensorflow as tf 
        from tensorflow import keras
        import matplotlib.pyplot as plt 
        fashion_mnist = keras.datasets.fashion_mnist
        (train_images , train_labels) , (test_images, test_labels) = fashion_mnist.load_data()
      
      class_names = ['T-shirt/top', 'Trouser', 'Pullover', 'Dress', 'Coat', 'Sandal', 'Shirt', 'Sneaker', 'Bag', 'Ankle boot']
      
        print(train_images.shape)
        print(len(train_labels))
        print(train_labels)
        print(test_images.shape)
        print(len(test_labels))
     plt.figure()
        plt.imshow(train_images[0])
        plt.colorbar()
        plt.show()
      
      train_images = train_images / 255.0
       test_images = test_images / 255.0
       plt.figure(figsize=(10,10))
        for i in range(25):
            plt.subplot(5,5,i+1)
            plt.xticks([])
            plt.yticks([])
            plt.imshow(train_images[i], cmap=plt.cm.binary)
            plt.xlabel(class_names[train_labels[i]])
        plt.show()
      
     train_images = train_images.reshape((train_images.shape[0], 28, 28, 1))
        test_images = test_images.reshape((test_images.shape[0], 28, 28, 1))
        model = keras.Sequential([
            keras.layers.Convolution2D(32, (3,3) , activation=tf.nn.relu, input_shape=(28,28,1)),
            keras.layers.MaxPooling2D( pool_size=(2,2) ),
            keras.layers.Convolution2D(32, (3,3) , activation=tf.nn.relu),
            keras.layers.MaxPooling2D( pool_size=(2,2) ),
            keras.layers.Flatten(input_shape=(28, 28)),
            keras.layers.Dense(128, activation=tf.nn.relu),
            keras.layers.Dense(10, activation=tf.nn.softmax)
                ])
        model.compile(optimizer='adam', loss='sparse_categorical_crossentropy',metrics=['accuracy'])
        model.fit(train_images, train_labels, epochs=20)
     60000/60000 [==============================] - 55s 909us/sample - loss: 0.4704 - acc: 0.8297
            Epoch 2/20
            60000/60000 [==============================] - 54s 903us/sample - loss: 0.3187 - acc: 0.8839
            Epoch 3/20
            60000/60000 [==============================] - 54s 901us/sample - loss: 0.2727 - acc: 0.8995
            Epoch 4/20\n",
            60000/60000 [==============================] - 54s 899us/sample - loss: 0.2425 - acc: 0.9100
            Epoch 5/20\n",
            60000/60000 [==============================] - 53s 892us/sample - loss: 0.2183 - acc: 0.9194
            Epoch 6/20\n",
            60000/60000 [==============================] - 54s 896us/sample - loss: 0.1962 - acc: 0.9272
            Epoch 7/20\n",
            60000/60000 [==============================] - 53s 890us/sample - loss: 0.1798 - acc: 0.9323
            Epoch 8/20\n",
            60000/60000 [==============================] - 54s 895us/sample - loss: 0.1630 - acc: 0.9391
            Epoch 9/20\n",
            60000/60000 [==============================] - 53s 889us/sample - loss: 0.1499 - acc: 0.9426
            Epoch 10/20\n",
            60000/60000 [==============================] - 54s 892us/sample - loss: 0.1362 - acc: 0.9489\n",
            Epoch 11/20\n",
            60000/60000 [==============================] - 53s 889us/sample - loss: 0.1234 - acc: 0.9533\n",
            Epoch 12/20\n",
            60000/60000 [==============================] - 54s 899us/sample - loss: 0.1108 - acc: 0.9580\n",
            Epoch 13/20\n",
            60000/60000 [==============================] - 53s 892us/sample - loss: 0.1034 - acc: 0.9601\n",
            Epoch 14/20\n",
            60000/60000 [==============================] - 54s 893us/sample - loss: 0.0912 - acc: 0.9650\n",
            Epoch 15/20\n",
            60000/60000 [==============================] - 54s 899us/sample - loss: 0.0821 - acc: 0.9685\n",
            Epoch 16/20\n",
            60000/60000 [==============================] - 54s 896us/sample - loss: 0.0782 - acc: 0.9707\n",
            Epoch 17/20\n",
            60000/60000 [==============================] - 54s 898us/sample - loss: 0.0686 - acc: 0.9742\n",
            Epoch 18/20\n",
            60000/60000 [==============================] - 54s 904us/sample - loss: 0.0639 - acc: 0.9749\n",
            Epoch 19/20\n",
            60000/60000 [==============================] - 54s 897us/sample - loss: 0.0603 - acc: 0.9771\n",
            Epoch 20/20\n",
            60000/60000 [==============================] - 54s 899us/sample - loss: 0.0538 - acc: 0.9798\n"
         
